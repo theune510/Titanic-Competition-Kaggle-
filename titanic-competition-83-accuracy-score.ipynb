{
 "cells": [
  {
   "cell_type": "markdown",
   "id": "f14b8232",
   "metadata": {
    "papermill": {
     "duration": 0.033813,
     "end_time": "2022-01-26T15:43:51.175529",
     "exception": false,
     "start_time": "2022-01-26T15:43:51.141716",
     "status": "completed"
    },
    "tags": []
   },
   "source": [
    "## Intro\n",
    "This is my exploratory data analysis and model building for the Titanic dataset. The titanic dataset is one of the most widely known sample datasets where it can be used to predict who would survive using binary classification, and as also stated, this is my entry for the Kaggle competition. I will start by analyzing the data, then doing some data cleaning and model building to determine how accurate our model will be. We will start by loading our packages:"
   ]
  },
  {
   "cell_type": "code",
   "execution_count": 1,
   "id": "deb54c81",
   "metadata": {
    "_cell_guid": "b1076dfc-b9ad-4769-8c92-a6c4dae69d19",
    "_kg_hide-input": false,
    "_uuid": "8f2839f25d086af736a60e9eeb907d3b93b6e0e5",
    "execution": {
     "iopub.execute_input": "2022-01-26T15:43:51.256679Z",
     "iopub.status.busy": "2022-01-26T15:43:51.255739Z",
     "iopub.status.idle": "2022-01-26T15:43:52.737697Z",
     "shell.execute_reply": "2022-01-26T15:43:52.738317Z",
     "shell.execute_reply.started": "2022-01-26T05:44:53.425254Z"
    },
    "papermill": {
     "duration": 1.529216,
     "end_time": "2022-01-26T15:43:52.738798",
     "exception": false,
     "start_time": "2022-01-26T15:43:51.209582",
     "status": "completed"
    },
    "tags": []
   },
   "outputs": [
    {
     "name": "stdout",
     "output_type": "stream",
     "text": [
      "/kaggle/input/titanic/train.csv\n",
      "/kaggle/input/titanic/test.csv\n",
      "/kaggle/input/titanic/gender_submission.csv\n"
     ]
    }
   ],
   "source": [
    "import pandas as pd\n",
    "import matplotlib.pyplot as plt\n",
    "import seaborn as sns\n",
    "from sklearn.model_selection import GridSearchCV\n",
    "from sklearn.impute import SimpleImputer\n",
    "from sklearn.preprocessing import OneHotEncoder\n",
    "from sklearn.ensemble import RandomForestClassifier\n",
    "from sklearn.compose import ColumnTransformer\n",
    "from sklearn.pipeline import Pipeline\n",
    "\n",
    "import warnings\n",
    "warnings.filterwarnings('ignore')\n",
    "\n",
    "import os\n",
    "for dirname, _, filenames in os.walk('/kaggle/input'):\n",
    "    for filename in filenames:\n",
    "        print(os.path.join(dirname, filename))"
   ]
  },
  {
   "cell_type": "markdown",
   "id": "4760cee3",
   "metadata": {
    "papermill": {
     "duration": 0.032398,
     "end_time": "2022-01-26T15:43:52.806822",
     "exception": false,
     "start_time": "2022-01-26T15:43:52.774424",
     "status": "completed"
    },
    "tags": []
   },
   "source": [
    "Next, I will configure the plotting for my convenience. Tampering with the plotting features is really beneficial and it will make your visualizations beautiful. Using the rc() function from Matplotlib's Pyplot is more efficient, so there wouldn't be a need to repeatedly enter the same functions over and over."
   ]
  },
  {
   "cell_type": "code",
   "execution_count": 2,
   "id": "d0a396e0",
   "metadata": {
    "_kg_hide-input": true,
    "execution": {
     "iopub.execute_input": "2022-01-26T15:43:52.876075Z",
     "iopub.status.busy": "2022-01-26T15:43:52.875248Z",
     "iopub.status.idle": "2022-01-26T15:43:52.880796Z",
     "shell.execute_reply": "2022-01-26T15:43:52.881267Z",
     "shell.execute_reply.started": "2022-01-26T05:44:53.439431Z"
    },
    "papermill": {
     "duration": 0.042154,
     "end_time": "2022-01-26T15:43:52.881458",
     "exception": false,
     "start_time": "2022-01-26T15:43:52.839304",
     "status": "completed"
    },
    "tags": []
   },
   "outputs": [],
   "source": [
    "#Configure plotting options\n",
    "sns.set_style('darkgrid')\n",
    "plt.rc('axes', labelsize=14, labelweight='bold', titlesize=16, titleweight='bold')\n",
    "plt.rc('figure', figsize=(8,5))"
   ]
  },
  {
   "cell_type": "markdown",
   "id": "197136bd",
   "metadata": {
    "papermill": {
     "duration": 0.03245,
     "end_time": "2022-01-26T15:43:52.949613",
     "exception": false,
     "start_time": "2022-01-26T15:43:52.917163",
     "status": "completed"
    },
    "tags": []
   },
   "source": [
    "Now that we have set up our packages and configurations, we can now load and analyze the data.\n",
    "\n",
    "## Data Analysis"
   ]
  },
  {
   "cell_type": "code",
   "execution_count": 3,
   "id": "5cce1f79",
   "metadata": {
    "execution": {
     "iopub.execute_input": "2022-01-26T15:43:53.021456Z",
     "iopub.status.busy": "2022-01-26T15:43:53.017856Z",
     "iopub.status.idle": "2022-01-26T15:43:53.079607Z",
     "shell.execute_reply": "2022-01-26T15:43:53.080172Z",
     "shell.execute_reply.started": "2022-01-26T05:44:53.451609Z"
    },
    "papermill": {
     "duration": 0.098235,
     "end_time": "2022-01-26T15:43:53.080387",
     "exception": false,
     "start_time": "2022-01-26T15:43:52.982152",
     "status": "completed"
    },
    "tags": []
   },
   "outputs": [
    {
     "data": {
      "text/html": [
       "<div>\n",
       "<style scoped>\n",
       "    .dataframe tbody tr th:only-of-type {\n",
       "        vertical-align: middle;\n",
       "    }\n",
       "\n",
       "    .dataframe tbody tr th {\n",
       "        vertical-align: top;\n",
       "    }\n",
       "\n",
       "    .dataframe thead th {\n",
       "        text-align: right;\n",
       "    }\n",
       "</style>\n",
       "<table border=\"1\" class=\"dataframe\">\n",
       "  <thead>\n",
       "    <tr style=\"text-align: right;\">\n",
       "      <th></th>\n",
       "      <th>PassengerId</th>\n",
       "      <th>Survived</th>\n",
       "      <th>Pclass</th>\n",
       "      <th>Name</th>\n",
       "      <th>Sex</th>\n",
       "      <th>Age</th>\n",
       "      <th>SibSp</th>\n",
       "      <th>Parch</th>\n",
       "      <th>Ticket</th>\n",
       "      <th>Fare</th>\n",
       "      <th>Cabin</th>\n",
       "      <th>Embarked</th>\n",
       "    </tr>\n",
       "  </thead>\n",
       "  <tbody>\n",
       "    <tr>\n",
       "      <th>0</th>\n",
       "      <td>1</td>\n",
       "      <td>0.0000</td>\n",
       "      <td>3</td>\n",
       "      <td>Braund, Mr. Owen Harris</td>\n",
       "      <td>male</td>\n",
       "      <td>22.0000</td>\n",
       "      <td>1</td>\n",
       "      <td>0</td>\n",
       "      <td>A/5 21171</td>\n",
       "      <td>7.2500</td>\n",
       "      <td>NaN</td>\n",
       "      <td>S</td>\n",
       "    </tr>\n",
       "    <tr>\n",
       "      <th>1</th>\n",
       "      <td>2</td>\n",
       "      <td>1.0000</td>\n",
       "      <td>1</td>\n",
       "      <td>Cumings, Mrs. John Bradley (Florence Briggs Th...</td>\n",
       "      <td>female</td>\n",
       "      <td>38.0000</td>\n",
       "      <td>1</td>\n",
       "      <td>0</td>\n",
       "      <td>PC 17599</td>\n",
       "      <td>71.2833</td>\n",
       "      <td>C85</td>\n",
       "      <td>C</td>\n",
       "    </tr>\n",
       "    <tr>\n",
       "      <th>2</th>\n",
       "      <td>3</td>\n",
       "      <td>1.0000</td>\n",
       "      <td>3</td>\n",
       "      <td>Heikkinen, Miss. Laina</td>\n",
       "      <td>female</td>\n",
       "      <td>26.0000</td>\n",
       "      <td>0</td>\n",
       "      <td>0</td>\n",
       "      <td>STON/O2. 3101282</td>\n",
       "      <td>7.9250</td>\n",
       "      <td>NaN</td>\n",
       "      <td>S</td>\n",
       "    </tr>\n",
       "    <tr>\n",
       "      <th>3</th>\n",
       "      <td>4</td>\n",
       "      <td>1.0000</td>\n",
       "      <td>1</td>\n",
       "      <td>Futrelle, Mrs. Jacques Heath (Lily May Peel)</td>\n",
       "      <td>female</td>\n",
       "      <td>35.0000</td>\n",
       "      <td>1</td>\n",
       "      <td>0</td>\n",
       "      <td>113803</td>\n",
       "      <td>53.1000</td>\n",
       "      <td>C123</td>\n",
       "      <td>S</td>\n",
       "    </tr>\n",
       "    <tr>\n",
       "      <th>4</th>\n",
       "      <td>5</td>\n",
       "      <td>0.0000</td>\n",
       "      <td>3</td>\n",
       "      <td>Allen, Mr. William Henry</td>\n",
       "      <td>male</td>\n",
       "      <td>35.0000</td>\n",
       "      <td>0</td>\n",
       "      <td>0</td>\n",
       "      <td>373450</td>\n",
       "      <td>8.0500</td>\n",
       "      <td>NaN</td>\n",
       "      <td>S</td>\n",
       "    </tr>\n",
       "  </tbody>\n",
       "</table>\n",
       "</div>"
      ],
      "text/plain": [
       "   PassengerId  Survived  Pclass  \\\n",
       "0            1    0.0000       3   \n",
       "1            2    1.0000       1   \n",
       "2            3    1.0000       3   \n",
       "3            4    1.0000       1   \n",
       "4            5    0.0000       3   \n",
       "\n",
       "                                                Name     Sex     Age  SibSp  \\\n",
       "0                            Braund, Mr. Owen Harris    male 22.0000      1   \n",
       "1  Cumings, Mrs. John Bradley (Florence Briggs Th...  female 38.0000      1   \n",
       "2                             Heikkinen, Miss. Laina  female 26.0000      0   \n",
       "3       Futrelle, Mrs. Jacques Heath (Lily May Peel)  female 35.0000      1   \n",
       "4                           Allen, Mr. William Henry    male 35.0000      0   \n",
       "\n",
       "   Parch            Ticket    Fare Cabin Embarked  \n",
       "0      0         A/5 21171  7.2500   NaN        S  \n",
       "1      0          PC 17599 71.2833   C85        C  \n",
       "2      0  STON/O2. 3101282  7.9250   NaN        S  \n",
       "3      0            113803 53.1000  C123        S  \n",
       "4      0            373450  8.0500   NaN        S  "
      ]
     },
     "execution_count": 3,
     "metadata": {},
     "output_type": "execute_result"
    }
   ],
   "source": [
    "#Display float values in 4 decimal points\n",
    "pd.set_option('display.float_format', lambda x: '%.4f' % x)\n",
    "\n",
    "train = pd.read_csv('../input/titanic/train.csv')\n",
    "test = pd.read_csv('../input/titanic/test.csv')\n",
    "df = pd.concat([train,test])\n",
    "df.head()"
   ]
  },
  {
   "cell_type": "code",
   "execution_count": 4,
   "id": "0695c145",
   "metadata": {
    "execution": {
     "iopub.execute_input": "2022-01-26T15:43:53.153279Z",
     "iopub.status.busy": "2022-01-26T15:43:53.152558Z",
     "iopub.status.idle": "2022-01-26T15:43:53.156220Z",
     "shell.execute_reply": "2022-01-26T15:43:53.155620Z",
     "shell.execute_reply.started": "2022-01-26T05:44:53.487768Z"
    },
    "papermill": {
     "duration": 0.042385,
     "end_time": "2022-01-26T15:43:53.156380",
     "exception": false,
     "start_time": "2022-01-26T15:43:53.113995",
     "status": "completed"
    },
    "tags": []
   },
   "outputs": [
    {
     "name": "stdout",
     "output_type": "stream",
     "text": [
      "Training dimensions: (891, 12)\n",
      "Testing dimensions: (418, 11)\n",
      "Full dimension: (1309, 12)\n"
     ]
    }
   ],
   "source": [
    "print('Training dimensions:', train.shape)\n",
    "print('Testing dimensions:', test.shape)\n",
    "print('Full dimension:', df.shape)"
   ]
  },
  {
   "cell_type": "code",
   "execution_count": 5,
   "id": "5cfd8536",
   "metadata": {
    "execution": {
     "iopub.execute_input": "2022-01-26T15:43:53.235266Z",
     "iopub.status.busy": "2022-01-26T15:43:53.234582Z",
     "iopub.status.idle": "2022-01-26T15:43:53.251417Z",
     "shell.execute_reply": "2022-01-26T15:43:53.252229Z",
     "shell.execute_reply.started": "2022-01-26T05:44:53.494135Z"
    },
    "papermill": {
     "duration": 0.062625,
     "end_time": "2022-01-26T15:43:53.252615",
     "exception": false,
     "start_time": "2022-01-26T15:43:53.189990",
     "status": "completed"
    },
    "tags": []
   },
   "outputs": [
    {
     "name": "stdout",
     "output_type": "stream",
     "text": [
      "<class 'pandas.core.frame.DataFrame'>\n",
      "Int64Index: 1309 entries, 0 to 417\n",
      "Data columns (total 12 columns):\n",
      " #   Column       Non-Null Count  Dtype  \n",
      "---  ------       --------------  -----  \n",
      " 0   PassengerId  1309 non-null   int64  \n",
      " 1   Survived     891 non-null    float64\n",
      " 2   Pclass       1309 non-null   int64  \n",
      " 3   Name         1309 non-null   object \n",
      " 4   Sex          1309 non-null   object \n",
      " 5   Age          1046 non-null   float64\n",
      " 6   SibSp        1309 non-null   int64  \n",
      " 7   Parch        1309 non-null   int64  \n",
      " 8   Ticket       1309 non-null   object \n",
      " 9   Fare         1308 non-null   float64\n",
      " 10  Cabin        295 non-null    object \n",
      " 11  Embarked     1307 non-null   object \n",
      "dtypes: float64(3), int64(4), object(5)\n",
      "memory usage: 132.9+ KB\n"
     ]
    }
   ],
   "source": [
    "df.info()"
   ]
  },
  {
   "cell_type": "code",
   "execution_count": 6,
   "id": "2b41bc88",
   "metadata": {
    "execution": {
     "iopub.execute_input": "2022-01-26T15:43:53.327340Z",
     "iopub.status.busy": "2022-01-26T15:43:53.324315Z",
     "iopub.status.idle": "2022-01-26T15:43:53.356307Z",
     "shell.execute_reply": "2022-01-26T15:43:53.355755Z",
     "shell.execute_reply.started": "2022-01-26T05:44:53.516383Z"
    },
    "papermill": {
     "duration": 0.069155,
     "end_time": "2022-01-26T15:43:53.356455",
     "exception": false,
     "start_time": "2022-01-26T15:43:53.287300",
     "status": "completed"
    },
    "tags": []
   },
   "outputs": [
    {
     "data": {
      "text/html": [
       "<div>\n",
       "<style scoped>\n",
       "    .dataframe tbody tr th:only-of-type {\n",
       "        vertical-align: middle;\n",
       "    }\n",
       "\n",
       "    .dataframe tbody tr th {\n",
       "        vertical-align: top;\n",
       "    }\n",
       "\n",
       "    .dataframe thead th {\n",
       "        text-align: right;\n",
       "    }\n",
       "</style>\n",
       "<table border=\"1\" class=\"dataframe\">\n",
       "  <thead>\n",
       "    <tr style=\"text-align: right;\">\n",
       "      <th></th>\n",
       "      <th>count</th>\n",
       "      <th>mean</th>\n",
       "      <th>std</th>\n",
       "      <th>min</th>\n",
       "      <th>25%</th>\n",
       "      <th>50%</th>\n",
       "      <th>75%</th>\n",
       "      <th>max</th>\n",
       "    </tr>\n",
       "  </thead>\n",
       "  <tbody>\n",
       "    <tr>\n",
       "      <th>PassengerId</th>\n",
       "      <td>1309.0000</td>\n",
       "      <td>655.0000</td>\n",
       "      <td>378.0201</td>\n",
       "      <td>1.0000</td>\n",
       "      <td>328.0000</td>\n",
       "      <td>655.0000</td>\n",
       "      <td>982.0000</td>\n",
       "      <td>1309.0000</td>\n",
       "    </tr>\n",
       "    <tr>\n",
       "      <th>Survived</th>\n",
       "      <td>891.0000</td>\n",
       "      <td>0.3838</td>\n",
       "      <td>0.4866</td>\n",
       "      <td>0.0000</td>\n",
       "      <td>0.0000</td>\n",
       "      <td>0.0000</td>\n",
       "      <td>1.0000</td>\n",
       "      <td>1.0000</td>\n",
       "    </tr>\n",
       "    <tr>\n",
       "      <th>Pclass</th>\n",
       "      <td>1309.0000</td>\n",
       "      <td>2.2949</td>\n",
       "      <td>0.8378</td>\n",
       "      <td>1.0000</td>\n",
       "      <td>2.0000</td>\n",
       "      <td>3.0000</td>\n",
       "      <td>3.0000</td>\n",
       "      <td>3.0000</td>\n",
       "    </tr>\n",
       "    <tr>\n",
       "      <th>Age</th>\n",
       "      <td>1046.0000</td>\n",
       "      <td>29.8811</td>\n",
       "      <td>14.4135</td>\n",
       "      <td>0.1700</td>\n",
       "      <td>21.0000</td>\n",
       "      <td>28.0000</td>\n",
       "      <td>39.0000</td>\n",
       "      <td>80.0000</td>\n",
       "    </tr>\n",
       "    <tr>\n",
       "      <th>SibSp</th>\n",
       "      <td>1309.0000</td>\n",
       "      <td>0.4989</td>\n",
       "      <td>1.0417</td>\n",
       "      <td>0.0000</td>\n",
       "      <td>0.0000</td>\n",
       "      <td>0.0000</td>\n",
       "      <td>1.0000</td>\n",
       "      <td>8.0000</td>\n",
       "    </tr>\n",
       "    <tr>\n",
       "      <th>Parch</th>\n",
       "      <td>1309.0000</td>\n",
       "      <td>0.3850</td>\n",
       "      <td>0.8656</td>\n",
       "      <td>0.0000</td>\n",
       "      <td>0.0000</td>\n",
       "      <td>0.0000</td>\n",
       "      <td>0.0000</td>\n",
       "      <td>9.0000</td>\n",
       "    </tr>\n",
       "    <tr>\n",
       "      <th>Fare</th>\n",
       "      <td>1308.0000</td>\n",
       "      <td>33.2955</td>\n",
       "      <td>51.7587</td>\n",
       "      <td>0.0000</td>\n",
       "      <td>7.8958</td>\n",
       "      <td>14.4542</td>\n",
       "      <td>31.2750</td>\n",
       "      <td>512.3292</td>\n",
       "    </tr>\n",
       "  </tbody>\n",
       "</table>\n",
       "</div>"
      ],
      "text/plain": [
       "                count     mean      std    min      25%      50%      75%  \\\n",
       "PassengerId 1309.0000 655.0000 378.0201 1.0000 328.0000 655.0000 982.0000   \n",
       "Survived     891.0000   0.3838   0.4866 0.0000   0.0000   0.0000   1.0000   \n",
       "Pclass      1309.0000   2.2949   0.8378 1.0000   2.0000   3.0000   3.0000   \n",
       "Age         1046.0000  29.8811  14.4135 0.1700  21.0000  28.0000  39.0000   \n",
       "SibSp       1309.0000   0.4989   1.0417 0.0000   0.0000   0.0000   1.0000   \n",
       "Parch       1309.0000   0.3850   0.8656 0.0000   0.0000   0.0000   0.0000   \n",
       "Fare        1308.0000  33.2955  51.7587 0.0000   7.8958  14.4542  31.2750   \n",
       "\n",
       "                  max  \n",
       "PassengerId 1309.0000  \n",
       "Survived       1.0000  \n",
       "Pclass         3.0000  \n",
       "Age           80.0000  \n",
       "SibSp          8.0000  \n",
       "Parch          9.0000  \n",
       "Fare         512.3292  "
      ]
     },
     "execution_count": 6,
     "metadata": {},
     "output_type": "execute_result"
    }
   ],
   "source": [
    "df.describe().T"
   ]
  },
  {
   "cell_type": "markdown",
   "id": "acfd6eca",
   "metadata": {
    "papermill": {
     "duration": 0.03362,
     "end_time": "2022-01-26T15:43:53.424076",
     "exception": false,
     "start_time": "2022-01-26T15:43:53.390456",
     "status": "completed"
    },
    "tags": []
   },
   "source": [
    "I will create a function for displaying the column's categories to preserve code usage."
   ]
  },
  {
   "cell_type": "code",
   "execution_count": 7,
   "id": "07e40a07",
   "metadata": {
    "_kg_hide-input": true,
    "execution": {
     "iopub.execute_input": "2022-01-26T15:43:53.500203Z",
     "iopub.status.busy": "2022-01-26T15:43:53.498948Z",
     "iopub.status.idle": "2022-01-26T15:43:53.506927Z",
     "shell.execute_reply": "2022-01-26T15:43:53.507678Z",
     "shell.execute_reply.started": "2022-01-26T05:44:53.544677Z"
    },
    "papermill": {
     "duration": 0.050328,
     "end_time": "2022-01-26T15:43:53.507921",
     "exception": false,
     "start_time": "2022-01-26T15:43:53.457593",
     "status": "completed"
    },
    "tags": []
   },
   "outputs": [
    {
     "name": "stdout",
     "output_type": "stream",
     "text": [
      "Unique features for Name: 1307\n",
      "Unique features for Sex: 2\n",
      "['male' 'female']\n",
      "Unique features for Ticket: 929\n",
      "Unique features for Cabin: 186\n",
      "Unique features for Embarked: 3\n",
      "['S' 'C' 'Q' nan]\n"
     ]
    }
   ],
   "source": [
    "#Display categories of each feature\n",
    "def displayUniqueFeatures(col):\n",
    "    count = df[col].nunique()\n",
    "    print('Unique features for %s: %d' % (col, count))\n",
    "    if count < 50:\n",
    "        print(df[col].unique())\n",
    "\n",
    "for col in df.select_dtypes('object'):\n",
    "    displayUniqueFeatures(col)"
   ]
  },
  {
   "cell_type": "code",
   "execution_count": 8,
   "id": "dc14e46d",
   "metadata": {
    "execution": {
     "iopub.execute_input": "2022-01-26T15:43:53.581743Z",
     "iopub.status.busy": "2022-01-26T15:43:53.581098Z",
     "iopub.status.idle": "2022-01-26T15:43:53.605524Z",
     "shell.execute_reply": "2022-01-26T15:43:53.604891Z",
     "shell.execute_reply.started": "2022-01-26T05:44:53.557718Z"
    },
    "papermill": {
     "duration": 0.062663,
     "end_time": "2022-01-26T15:43:53.605662",
     "exception": false,
     "start_time": "2022-01-26T15:43:53.542999",
     "status": "completed"
    },
    "tags": []
   },
   "outputs": [
    {
     "data": {
      "text/html": [
       "<div>\n",
       "<style scoped>\n",
       "    .dataframe tbody tr th:only-of-type {\n",
       "        vertical-align: middle;\n",
       "    }\n",
       "\n",
       "    .dataframe tbody tr th {\n",
       "        vertical-align: top;\n",
       "    }\n",
       "\n",
       "    .dataframe thead th {\n",
       "        text-align: right;\n",
       "    }\n",
       "</style>\n",
       "<table border=\"1\" class=\"dataframe\">\n",
       "  <thead>\n",
       "    <tr style=\"text-align: right;\">\n",
       "      <th></th>\n",
       "      <th>Pclass</th>\n",
       "      <th>Sex</th>\n",
       "      <th>Age</th>\n",
       "      <th>SibSp</th>\n",
       "      <th>Parch</th>\n",
       "      <th>Fare</th>\n",
       "      <th>Embarked</th>\n",
       "    </tr>\n",
       "  </thead>\n",
       "  <tbody>\n",
       "    <tr>\n",
       "      <th>0</th>\n",
       "      <td>3</td>\n",
       "      <td>male</td>\n",
       "      <td>34.5000</td>\n",
       "      <td>0</td>\n",
       "      <td>0</td>\n",
       "      <td>7.8292</td>\n",
       "      <td>Q</td>\n",
       "    </tr>\n",
       "    <tr>\n",
       "      <th>1</th>\n",
       "      <td>3</td>\n",
       "      <td>female</td>\n",
       "      <td>47.0000</td>\n",
       "      <td>1</td>\n",
       "      <td>0</td>\n",
       "      <td>7.0000</td>\n",
       "      <td>S</td>\n",
       "    </tr>\n",
       "    <tr>\n",
       "      <th>2</th>\n",
       "      <td>2</td>\n",
       "      <td>male</td>\n",
       "      <td>62.0000</td>\n",
       "      <td>0</td>\n",
       "      <td>0</td>\n",
       "      <td>9.6875</td>\n",
       "      <td>Q</td>\n",
       "    </tr>\n",
       "    <tr>\n",
       "      <th>3</th>\n",
       "      <td>3</td>\n",
       "      <td>male</td>\n",
       "      <td>27.0000</td>\n",
       "      <td>0</td>\n",
       "      <td>0</td>\n",
       "      <td>8.6625</td>\n",
       "      <td>S</td>\n",
       "    </tr>\n",
       "    <tr>\n",
       "      <th>4</th>\n",
       "      <td>3</td>\n",
       "      <td>female</td>\n",
       "      <td>22.0000</td>\n",
       "      <td>1</td>\n",
       "      <td>1</td>\n",
       "      <td>12.2875</td>\n",
       "      <td>S</td>\n",
       "    </tr>\n",
       "    <tr>\n",
       "      <th>...</th>\n",
       "      <td>...</td>\n",
       "      <td>...</td>\n",
       "      <td>...</td>\n",
       "      <td>...</td>\n",
       "      <td>...</td>\n",
       "      <td>...</td>\n",
       "      <td>...</td>\n",
       "    </tr>\n",
       "    <tr>\n",
       "      <th>413</th>\n",
       "      <td>3</td>\n",
       "      <td>male</td>\n",
       "      <td>NaN</td>\n",
       "      <td>0</td>\n",
       "      <td>0</td>\n",
       "      <td>8.0500</td>\n",
       "      <td>S</td>\n",
       "    </tr>\n",
       "    <tr>\n",
       "      <th>414</th>\n",
       "      <td>1</td>\n",
       "      <td>female</td>\n",
       "      <td>39.0000</td>\n",
       "      <td>0</td>\n",
       "      <td>0</td>\n",
       "      <td>108.9000</td>\n",
       "      <td>C</td>\n",
       "    </tr>\n",
       "    <tr>\n",
       "      <th>415</th>\n",
       "      <td>3</td>\n",
       "      <td>male</td>\n",
       "      <td>38.5000</td>\n",
       "      <td>0</td>\n",
       "      <td>0</td>\n",
       "      <td>7.2500</td>\n",
       "      <td>S</td>\n",
       "    </tr>\n",
       "    <tr>\n",
       "      <th>416</th>\n",
       "      <td>3</td>\n",
       "      <td>male</td>\n",
       "      <td>NaN</td>\n",
       "      <td>0</td>\n",
       "      <td>0</td>\n",
       "      <td>8.0500</td>\n",
       "      <td>S</td>\n",
       "    </tr>\n",
       "    <tr>\n",
       "      <th>417</th>\n",
       "      <td>3</td>\n",
       "      <td>male</td>\n",
       "      <td>NaN</td>\n",
       "      <td>1</td>\n",
       "      <td>1</td>\n",
       "      <td>22.3583</td>\n",
       "      <td>C</td>\n",
       "    </tr>\n",
       "  </tbody>\n",
       "</table>\n",
       "<p>418 rows × 7 columns</p>\n",
       "</div>"
      ],
      "text/plain": [
       "     Pclass     Sex     Age  SibSp  Parch     Fare Embarked\n",
       "0         3    male 34.5000      0      0   7.8292        Q\n",
       "1         3  female 47.0000      1      0   7.0000        S\n",
       "2         2    male 62.0000      0      0   9.6875        Q\n",
       "3         3    male 27.0000      0      0   8.6625        S\n",
       "4         3  female 22.0000      1      1  12.2875        S\n",
       "..      ...     ...     ...    ...    ...      ...      ...\n",
       "413       3    male     NaN      0      0   8.0500        S\n",
       "414       1  female 39.0000      0      0 108.9000        C\n",
       "415       3    male 38.5000      0      0   7.2500        S\n",
       "416       3    male     NaN      0      0   8.0500        S\n",
       "417       3    male     NaN      1      1  22.3583        C\n",
       "\n",
       "[418 rows x 7 columns]"
      ]
     },
     "execution_count": 8,
     "metadata": {},
     "output_type": "execute_result"
    }
   ],
   "source": [
    "#Drop unneeded columns\n",
    "cat_cols = df.columns[df.dtypes == 'object']\n",
    "cols_to_drop = [col for col in cat_cols if df[col].nunique() > 10]\n",
    "cols_to_drop\n",
    "\n",
    "train.drop(columns=['PassengerId'] + cols_to_drop, axis=1)\n",
    "test.drop(columns=['PassengerId'] + cols_to_drop, axis=1)"
   ]
  },
  {
   "cell_type": "code",
   "execution_count": 9,
   "id": "89d7e6a1",
   "metadata": {
    "execution": {
     "iopub.execute_input": "2022-01-26T15:43:53.681759Z",
     "iopub.status.busy": "2022-01-26T15:43:53.681131Z",
     "iopub.status.idle": "2022-01-26T15:43:54.338883Z",
     "shell.execute_reply": "2022-01-26T15:43:54.339431Z",
     "shell.execute_reply.started": "2022-01-26T05:44:53.579574Z"
    },
    "papermill": {
     "duration": 0.699289,
     "end_time": "2022-01-26T15:43:54.339601",
     "exception": false,
     "start_time": "2022-01-26T15:43:53.640312",
     "status": "completed"
    },
    "tags": []
   },
   "outputs": [
    {
     "data": {
      "image/png": "[encoded data removed]",
      "text/plain": [
       "<Figure size 576x360 with 2 Axes>"
      ]
     },
     "metadata": {},
     "output_type": "display_data"
    }
   ],
   "source": [
    "#Display correlation matrix\n",
    "sns.heatmap(df.corr(), fmt='.2f', annot=True, cmap='Greens', linewidth=.1, annot_kws={'size': 14});"
   ]
  },
  {
   "cell_type": "markdown",
   "id": "e514cb4b",
   "metadata": {
    "papermill": {
     "duration": 0.036396,
     "end_time": "2022-01-26T15:43:54.413040",
     "exception": false,
     "start_time": "2022-01-26T15:43:54.376644",
     "status": "completed"
    },
    "tags": []
   },
   "source": [
    "This dataset has no correlations, except for ticket class (Pclass) and fare, where more than 50% and less than -50% is considered a strong correlation.\n",
    "\n",
    "### Visualizations\n",
    "\n",
    "Again, I will use a function to plot pies for efficiency."
   ]
  },
  {
   "cell_type": "code",
   "execution_count": 10,
   "id": "7c4c4e5e",
   "metadata": {
    "_kg_hide-input": true,
    "execution": {
     "iopub.execute_input": "2022-01-26T15:43:54.493560Z",
     "iopub.status.busy": "2022-01-26T15:43:54.492522Z",
     "iopub.status.idle": "2022-01-26T15:43:54.494369Z",
     "shell.execute_reply": "2022-01-26T15:43:54.494853Z",
     "shell.execute_reply.started": "2022-01-26T05:44:54.125515Z"
    },
    "papermill": {
     "duration": 0.045453,
     "end_time": "2022-01-26T15:43:54.495039",
     "exception": false,
     "start_time": "2022-01-26T15:43:54.449586",
     "status": "completed"
    },
    "tags": []
   },
   "outputs": [],
   "source": [
    "#It's easier to make a function displaying plots, so we don't have to enter the same parameters again\n",
    "def make_pie(column):\n",
    "    values = df[column].value_counts()\n",
    "    plt.pie(values.values, labels=values.index, autopct='%1.1f%%', startangle=90, shadow=True)"
   ]
  },
  {
   "cell_type": "code",
   "execution_count": 11,
   "id": "f94f34fa",
   "metadata": {
    "execution": {
     "iopub.execute_input": "2022-01-26T15:43:54.572212Z",
     "iopub.status.busy": "2022-01-26T15:43:54.571241Z",
     "iopub.status.idle": "2022-01-26T15:43:54.709044Z",
     "shell.execute_reply": "2022-01-26T15:43:54.709890Z",
     "shell.execute_reply.started": "2022-01-26T05:44:54.13077Z"
    },
    "papermill": {
     "duration": 0.178642,
     "end_time": "2022-01-26T15:43:54.710174",
     "exception": false,
     "start_time": "2022-01-26T15:43:54.531532",
     "status": "completed"
    },
    "tags": []
   },
   "outputs": [
    {
     "data": {
      "image/png": "[encoded data removed]",
      "text/plain": [
       "<Figure size 576x360 with 1 Axes>"
      ]
     },
     "metadata": {},
     "output_type": "display_data"
    }
   ],
   "source": [
    "make_pie('Survived')"
   ]
  },
  {
   "cell_type": "markdown",
   "id": "88996f1d",
   "metadata": {
    "papermill": {
     "duration": 0.044045,
     "end_time": "2022-01-26T15:43:54.825627",
     "exception": false,
     "start_time": "2022-01-26T15:43:54.781582",
     "status": "completed"
    },
    "tags": []
   },
   "source": [
    "It turns out that most of the individuals in the Titanic did not survive the catastrophe."
   ]
  },
  {
   "cell_type": "code",
   "execution_count": 12,
   "id": "d42204c8",
   "metadata": {
    "execution": {
     "iopub.execute_input": "2022-01-26T15:43:54.904812Z",
     "iopub.status.busy": "2022-01-26T15:43:54.904194Z",
     "iopub.status.idle": "2022-01-26T15:43:55.036936Z",
     "shell.execute_reply": "2022-01-26T15:43:55.037785Z",
     "shell.execute_reply.started": "2022-01-26T05:44:54.246829Z"
    },
    "papermill": {
     "duration": 0.17466,
     "end_time": "2022-01-26T15:43:55.038065",
     "exception": false,
     "start_time": "2022-01-26T15:43:54.863405",
     "status": "completed"
    },
    "tags": []
   },
   "outputs": [
    {
     "data": {
      "image/png": "[encoded data removed]",
      "text/plain": [
       "<Figure size 576x360 with 1 Axes>"
      ]
     },
     "metadata": {},
     "output_type": "display_data"
    }
   ],
   "source": [
    "make_pie('Pclass')"
   ]
  },
  {
   "cell_type": "markdown",
   "id": "5cfce0e6",
   "metadata": {
    "papermill": {
     "duration": 0.040676,
     "end_time": "2022-01-26T15:43:55.149325",
     "exception": false,
     "start_time": "2022-01-26T15:43:55.108649",
     "status": "completed"
    },
    "tags": []
   },
   "source": [
    "3rd class appears to be the most frequent class. This could assume that the classes are price-based and/or have perks, meaning that this a lower-ranked class."
   ]
  },
  {
   "cell_type": "code",
   "execution_count": 13,
   "id": "1d8acadc",
   "metadata": {
    "execution": {
     "iopub.execute_input": "2022-01-26T15:43:55.228996Z",
     "iopub.status.busy": "2022-01-26T15:43:55.228354Z",
     "iopub.status.idle": "2022-01-26T15:43:55.347503Z",
     "shell.execute_reply": "2022-01-26T15:43:55.348386Z",
     "shell.execute_reply.started": "2022-01-26T05:44:54.400165Z"
    },
    "papermill": {
     "duration": 0.161494,
     "end_time": "2022-01-26T15:43:55.348692",
     "exception": false,
     "start_time": "2022-01-26T15:43:55.187198",
     "status": "completed"
    },
    "tags": []
   },
   "outputs": [
    {
     "data": {
      "image/png": "[encoded data removed]",
      "text/plain": [
       "<Figure size 576x360 with 1 Axes>"
      ]
     },
     "metadata": {},
     "output_type": "display_data"
    }
   ],
   "source": [
    "make_pie('Sex')"
   ]
  },
  {
   "cell_type": "markdown",
   "id": "c7625680",
   "metadata": {
    "papermill": {
     "duration": 0.043061,
     "end_time": "2022-01-26T15:43:55.464802",
     "exception": false,
     "start_time": "2022-01-26T15:43:55.421741",
     "status": "completed"
    },
    "tags": []
   },
   "source": [
    "Most of the individuals are men."
   ]
  },
  {
   "cell_type": "code",
   "execution_count": 14,
   "id": "b0d83e6b",
   "metadata": {
    "execution": {
     "iopub.execute_input": "2022-01-26T15:43:55.564764Z",
     "iopub.status.busy": "2022-01-26T15:43:55.564048Z",
     "iopub.status.idle": "2022-01-26T15:43:55.675341Z",
     "shell.execute_reply": "2022-01-26T15:43:55.676221Z",
     "shell.execute_reply.started": "2022-01-26T05:44:54.546589Z"
    },
    "papermill": {
     "duration": 0.172141,
     "end_time": "2022-01-26T15:43:55.676538",
     "exception": false,
     "start_time": "2022-01-26T15:43:55.504397",
     "status": "completed"
    },
    "tags": []
   },
   "outputs": [
    {
     "data": {
      "image/png": "[encoded data removed]",
      "text/plain": [
       "<Figure size 576x360 with 1 Axes>"
      ]
     },
     "metadata": {},
     "output_type": "display_data"
    }
   ],
   "source": [
    "make_pie('Embarked')"
   ]
  },
  {
   "cell_type": "markdown",
   "id": "0d39875a",
   "metadata": {
    "papermill": {
     "duration": 0.044427,
     "end_time": "2022-01-26T15:43:55.796429",
     "exception": false,
     "start_time": "2022-01-26T15:43:55.752002",
     "status": "completed"
    },
    "tags": []
   },
   "source": [
    "The ship mostly consisted of Southamption individuals."
   ]
  },
  {
   "cell_type": "code",
   "execution_count": 15,
   "id": "22acdac7",
   "metadata": {
    "execution": {
     "iopub.execute_input": "2022-01-26T15:43:55.885850Z",
     "iopub.status.busy": "2022-01-26T15:43:55.885138Z",
     "iopub.status.idle": "2022-01-26T15:43:56.159099Z",
     "shell.execute_reply": "2022-01-26T15:43:56.158431Z",
     "shell.execute_reply.started": "2022-01-26T05:44:54.65796Z"
    },
    "papermill": {
     "duration": 0.321983,
     "end_time": "2022-01-26T15:43:56.159260",
     "exception": false,
     "start_time": "2022-01-26T15:43:55.837277",
     "status": "completed"
    },
    "tags": []
   },
   "outputs": [
    {
     "data": {
      "image/png": "[encoded data removed]",
      "text/plain": [
       "<Figure size 576x360 with 1 Axes>"
      ]
     },
     "metadata": {},
     "output_type": "display_data"
    }
   ],
   "source": [
    "pd.crosstab(df.Sex,df.Survived).plot(kind='bar', stacked=True);"
   ]
  },
  {
   "cell_type": "markdown",
   "id": "33c6d3f3",
   "metadata": {
    "papermill": {
     "duration": 0.043526,
     "end_time": "2022-01-26T15:43:56.244844",
     "exception": false,
     "start_time": "2022-01-26T15:43:56.201318",
     "status": "completed"
    },
    "tags": []
   },
   "source": [
    "This plot says that it was mostly females that survived the incident. The length of the bars indicate the frequency of that category."
   ]
  },
  {
   "cell_type": "code",
   "execution_count": 16,
   "id": "a971511e",
   "metadata": {
    "execution": {
     "iopub.execute_input": "2022-01-26T15:43:56.332625Z",
     "iopub.status.busy": "2022-01-26T15:43:56.331892Z",
     "iopub.status.idle": "2022-01-26T15:43:56.789491Z",
     "shell.execute_reply": "2022-01-26T15:43:56.790090Z",
     "shell.execute_reply.started": "2022-01-26T05:44:54.906171Z"
    },
    "papermill": {
     "duration": 0.50319,
     "end_time": "2022-01-26T15:43:56.790282",
     "exception": false,
     "start_time": "2022-01-26T15:43:56.287092",
     "status": "completed"
    },
    "tags": []
   },
   "outputs": [
    {
     "data": {
      "image/png": "[encoded data removed]",
      "text/plain": [
       "<Figure size 576x360 with 1 Axes>"
      ]
     },
     "metadata": {},
     "output_type": "display_data"
    }
   ],
   "source": [
    "pd.crosstab(df.Embarked,df.Survived).plot(kind='bar', stacked=True);"
   ]
  },
  {
   "cell_type": "markdown",
   "id": "27d4b2d0",
   "metadata": {
    "papermill": {
     "duration": 0.041402,
     "end_time": "2022-01-26T15:43:56.873124",
     "exception": false,
     "start_time": "2022-01-26T15:43:56.831722",
     "status": "completed"
    },
    "tags": []
   },
   "source": [
    "Most of the casualties and survivals were from Southampton folks."
   ]
  },
  {
   "cell_type": "code",
   "execution_count": 17,
   "id": "d6eac6c0",
   "metadata": {
    "execution": {
     "iopub.execute_input": "2022-01-26T15:43:56.959806Z",
     "iopub.status.busy": "2022-01-26T15:43:56.959189Z",
     "iopub.status.idle": "2022-01-26T15:43:57.368305Z",
     "shell.execute_reply": "2022-01-26T15:43:57.368821Z",
     "shell.execute_reply.started": "2022-01-26T05:44:55.14315Z"
    },
    "papermill": {
     "duration": 0.454389,
     "end_time": "2022-01-26T15:43:57.369043",
     "exception": false,
     "start_time": "2022-01-26T15:43:56.914654",
     "status": "completed"
    },
    "tags": []
   },
   "outputs": [
    {
     "data": {
      "image/png": "[encoded data removed]",
      "text/plain": [
       "<Figure size 576x360 with 1 Axes>"
      ]
     },
     "metadata": {},
     "output_type": "display_data"
    }
   ],
   "source": [
    "sns.histplot(df.SibSp);"
   ]
  },
  {
   "cell_type": "markdown",
   "id": "4b7ce2d3",
   "metadata": {
    "papermill": {
     "duration": 0.043107,
     "end_time": "2022-01-26T15:43:57.455263",
     "exception": false,
     "start_time": "2022-01-26T15:43:57.412156",
     "status": "completed"
    },
    "tags": []
   },
   "source": [
    "Given the fact that this feature counts both siblings and spouses (according to the description of the data), it can be hard to tell if the individual was a sibling or somebody's spouse, especially with this histogram. So it is known that it's uncommon to have alot of siblings, and obviously, no person has more than one spouse, especially in 1912. So we could say that in the first two bars, most of the people in the Titanic were either single or didn't have any siblings. The second bar could indicate that those people were married and/or had a slight chance of having only one sibling. The other bars could indicate that a tiny portion of individuals had more than one sibling."
   ]
  },
  {
   "cell_type": "code",
   "execution_count": 18,
   "id": "89e6aafe",
   "metadata": {
    "execution": {
     "iopub.execute_input": "2022-01-26T15:43:57.544258Z",
     "iopub.status.busy": "2022-01-26T15:43:57.543558Z",
     "iopub.status.idle": "2022-01-26T15:43:57.835290Z",
     "shell.execute_reply": "2022-01-26T15:43:57.835966Z",
     "shell.execute_reply.started": "2022-01-26T05:44:55.484481Z"
    },
    "papermill": {
     "duration": 0.337951,
     "end_time": "2022-01-26T15:43:57.836172",
     "exception": false,
     "start_time": "2022-01-26T15:43:57.498221",
     "status": "completed"
    },
    "tags": []
   },
   "outputs": [
    {
     "data": {
      "image/png": "[encoded data removed]",
      "text/plain": [
       "<Figure size 576x360 with 1 Axes>"
      ]
     },
     "metadata": {},
     "output_type": "display_data"
    }
   ],
   "source": [
    "sns.histplot(df.Parch);"
   ]
  },
  {
   "cell_type": "markdown",
   "id": "bbf5dffa",
   "metadata": {
    "papermill": {
     "duration": 0.04409,
     "end_time": "2022-01-26T15:43:57.923969",
     "exception": false,
     "start_time": "2022-01-26T15:43:57.879879",
     "status": "completed"
    },
    "tags": []
   },
   "source": [
    "Just like this histogram, the Parch feature takes in the amount of both parents and/or children, which can be really confusing. This could be interpreted as individuals with children, since you can't have more than two parents. So it could be said that the tiny portion of people on the ship had more than two children, and the majority have no children."
   ]
  },
  {
   "cell_type": "code",
   "execution_count": 19,
   "id": "efcb08fc",
   "metadata": {
    "execution": {
     "iopub.execute_input": "2022-01-26T15:43:58.019192Z",
     "iopub.status.busy": "2022-01-26T15:43:58.018492Z",
     "iopub.status.idle": "2022-01-26T15:43:58.252811Z",
     "shell.execute_reply": "2022-01-26T15:43:58.253333Z",
     "shell.execute_reply.started": "2022-01-26T05:44:55.872022Z"
    },
    "papermill": {
     "duration": 0.284941,
     "end_time": "2022-01-26T15:43:58.253525",
     "exception": false,
     "start_time": "2022-01-26T15:43:57.968584",
     "status": "completed"
    },
    "tags": []
   },
   "outputs": [
    {
     "data": {
      "image/png": "[encoded data removed]",
      "text/plain": [
       "<Figure size 576x360 with 1 Axes>"
      ]
     },
     "metadata": {},
     "output_type": "display_data"
    }
   ],
   "source": [
    "sns.boxplot(x='Embarked', y='Fare', data=df);"
   ]
  },
  {
   "cell_type": "markdown",
   "id": "88f8aff0",
   "metadata": {
    "papermill": {
     "duration": 0.044416,
     "end_time": "2022-01-26T15:43:58.344232",
     "exception": false,
     "start_time": "2022-01-26T15:43:58.299816",
     "status": "completed"
    },
    "tags": []
   },
   "source": [
    "Cherbourg residents appeared to have paid the most expensive fares for the ship, while the other embarkments have paid the same amounts."
   ]
  },
  {
   "cell_type": "code",
   "execution_count": 20,
   "id": "d2d5e111",
   "metadata": {
    "execution": {
     "iopub.execute_input": "2022-01-26T15:43:58.463802Z",
     "iopub.status.busy": "2022-01-26T15:43:58.463136Z",
     "iopub.status.idle": "2022-01-26T15:43:58.718157Z",
     "shell.execute_reply": "2022-01-26T15:43:58.717446Z",
     "shell.execute_reply.started": "2022-01-26T05:44:56.083716Z"
    },
    "papermill": {
     "duration": 0.315797,
     "end_time": "2022-01-26T15:43:58.718323",
     "exception": false,
     "start_time": "2022-01-26T15:43:58.402526",
     "status": "completed"
    },
    "tags": []
   },
   "outputs": [
    {
     "data": {
      "image/png": "[encoded data removed]",
      "text/plain": [
       "<Figure size 576x360 with 1 Axes>"
      ]
     },
     "metadata": {},
     "output_type": "display_data"
    }
   ],
   "source": [
    "sns.boxplot(x='Pclass', y='Fare', data=df);"
   ]
  },
  {
   "cell_type": "markdown",
   "id": "b29bfd74",
   "metadata": {
    "papermill": {
     "duration": 0.07069,
     "end_time": "2022-01-26T15:43:58.842310",
     "exception": false,
     "start_time": "2022-01-26T15:43:58.771620",
     "status": "completed"
    },
    "tags": []
   },
   "source": [
    "First class individuals paid the most out of everyone else, as suspected. The correlation table proves this fact.\n",
    "\n",
    "### Data Cleaning"
   ]
  },
  {
   "cell_type": "code",
   "execution_count": 21,
   "id": "a1a747b9",
   "metadata": {
    "execution": {
     "iopub.execute_input": "2022-01-26T15:43:58.976403Z",
     "iopub.status.busy": "2022-01-26T15:43:58.975597Z",
     "iopub.status.idle": "2022-01-26T15:43:58.983562Z",
     "shell.execute_reply": "2022-01-26T15:43:58.982844Z",
     "shell.execute_reply.started": "2022-01-26T05:44:56.293068Z"
    },
    "papermill": {
     "duration": 0.078712,
     "end_time": "2022-01-26T15:43:58.983733",
     "exception": false,
     "start_time": "2022-01-26T15:43:58.905021",
     "status": "completed"
    },
    "tags": []
   },
   "outputs": [
    {
     "data": {
      "text/html": [
       "<div>\n",
       "<style scoped>\n",
       "    .dataframe tbody tr th:only-of-type {\n",
       "        vertical-align: middle;\n",
       "    }\n",
       "\n",
       "    .dataframe tbody tr th {\n",
       "        vertical-align: top;\n",
       "    }\n",
       "\n",
       "    .dataframe thead th {\n",
       "        text-align: right;\n",
       "    }\n",
       "</style>\n",
       "<table border=\"1\" class=\"dataframe\">\n",
       "  <thead>\n",
       "    <tr style=\"text-align: right;\">\n",
       "      <th></th>\n",
       "      <th>amount</th>\n",
       "      <th>probability</th>\n",
       "    </tr>\n",
       "  </thead>\n",
       "  <tbody>\n",
       "    <tr>\n",
       "      <th>Cabin</th>\n",
       "      <td>687</td>\n",
       "      <td>0.7710</td>\n",
       "    </tr>\n",
       "    <tr>\n",
       "      <th>Age</th>\n",
       "      <td>177</td>\n",
       "      <td>0.1987</td>\n",
       "    </tr>\n",
       "    <tr>\n",
       "      <th>Embarked</th>\n",
       "      <td>2</td>\n",
       "      <td>0.0022</td>\n",
       "    </tr>\n",
       "    <tr>\n",
       "      <th>PassengerId</th>\n",
       "      <td>0</td>\n",
       "      <td>0.0000</td>\n",
       "    </tr>\n",
       "    <tr>\n",
       "      <th>Survived</th>\n",
       "      <td>0</td>\n",
       "      <td>0.0000</td>\n",
       "    </tr>\n",
       "    <tr>\n",
       "      <th>Pclass</th>\n",
       "      <td>0</td>\n",
       "      <td>0.0000</td>\n",
       "    </tr>\n",
       "    <tr>\n",
       "      <th>Name</th>\n",
       "      <td>0</td>\n",
       "      <td>0.0000</td>\n",
       "    </tr>\n",
       "    <tr>\n",
       "      <th>Sex</th>\n",
       "      <td>0</td>\n",
       "      <td>0.0000</td>\n",
       "    </tr>\n",
       "    <tr>\n",
       "      <th>SibSp</th>\n",
       "      <td>0</td>\n",
       "      <td>0.0000</td>\n",
       "    </tr>\n",
       "    <tr>\n",
       "      <th>Parch</th>\n",
       "      <td>0</td>\n",
       "      <td>0.0000</td>\n",
       "    </tr>\n",
       "    <tr>\n",
       "      <th>Ticket</th>\n",
       "      <td>0</td>\n",
       "      <td>0.0000</td>\n",
       "    </tr>\n",
       "    <tr>\n",
       "      <th>Fare</th>\n",
       "      <td>0</td>\n",
       "      <td>0.0000</td>\n",
       "    </tr>\n",
       "  </tbody>\n",
       "</table>\n",
       "</div>"
      ],
      "text/plain": [
       "             amount  probability\n",
       "Cabin           687       0.7710\n",
       "Age             177       0.1987\n",
       "Embarked          2       0.0022\n",
       "PassengerId       0       0.0000\n",
       "Survived          0       0.0000\n",
       "Pclass            0       0.0000\n",
       "Name              0       0.0000\n",
       "Sex               0       0.0000\n",
       "SibSp             0       0.0000\n",
       "Parch             0       0.0000\n",
       "Ticket            0       0.0000\n",
       "Fare              0       0.0000"
      ]
     },
     "execution_count": 21,
     "metadata": {},
     "output_type": "execute_result"
    }
   ],
   "source": [
    "def get_null_info(df):\n",
    "    null_sum = [df[col].isnull().sum() for col in df.columns]\n",
    "    null_prob = [df[col].isnull().sum() / len(df) for col in df.columns]\n",
    "    null_vals = pd.DataFrame({'amount': null_sum, 'probability': null_prob}, index=df.columns)\n",
    "    return null_vals.sort_values('amount', ascending=False)\n",
    "\n",
    "get_null_info(train)"
   ]
  },
  {
   "cell_type": "code",
   "execution_count": 22,
   "id": "12218cb7",
   "metadata": {
    "execution": {
     "iopub.execute_input": "2022-01-26T15:43:59.112955Z",
     "iopub.status.busy": "2022-01-26T15:43:59.112052Z",
     "iopub.status.idle": "2022-01-26T15:43:59.115839Z",
     "shell.execute_reply": "2022-01-26T15:43:59.116483Z",
     "shell.execute_reply.started": "2022-01-26T05:44:56.31032Z"
    },
    "papermill": {
     "duration": 0.075141,
     "end_time": "2022-01-26T15:43:59.116677",
     "exception": false,
     "start_time": "2022-01-26T15:43:59.041536",
     "status": "completed"
    },
    "tags": []
   },
   "outputs": [
    {
     "data": {
      "text/html": [
       "<div>\n",
       "<style scoped>\n",
       "    .dataframe tbody tr th:only-of-type {\n",
       "        vertical-align: middle;\n",
       "    }\n",
       "\n",
       "    .dataframe tbody tr th {\n",
       "        vertical-align: top;\n",
       "    }\n",
       "\n",
       "    .dataframe thead th {\n",
       "        text-align: right;\n",
       "    }\n",
       "</style>\n",
       "<table border=\"1\" class=\"dataframe\">\n",
       "  <thead>\n",
       "    <tr style=\"text-align: right;\">\n",
       "      <th></th>\n",
       "      <th>amount</th>\n",
       "      <th>probability</th>\n",
       "    </tr>\n",
       "  </thead>\n",
       "  <tbody>\n",
       "    <tr>\n",
       "      <th>Cabin</th>\n",
       "      <td>327</td>\n",
       "      <td>0.7823</td>\n",
       "    </tr>\n",
       "    <tr>\n",
       "      <th>Age</th>\n",
       "      <td>86</td>\n",
       "      <td>0.2057</td>\n",
       "    </tr>\n",
       "    <tr>\n",
       "      <th>Fare</th>\n",
       "      <td>1</td>\n",
       "      <td>0.0024</td>\n",
       "    </tr>\n",
       "    <tr>\n",
       "      <th>PassengerId</th>\n",
       "      <td>0</td>\n",
       "      <td>0.0000</td>\n",
       "    </tr>\n",
       "    <tr>\n",
       "      <th>Pclass</th>\n",
       "      <td>0</td>\n",
       "      <td>0.0000</td>\n",
       "    </tr>\n",
       "    <tr>\n",
       "      <th>Name</th>\n",
       "      <td>0</td>\n",
       "      <td>0.0000</td>\n",
       "    </tr>\n",
       "    <tr>\n",
       "      <th>Sex</th>\n",
       "      <td>0</td>\n",
       "      <td>0.0000</td>\n",
       "    </tr>\n",
       "    <tr>\n",
       "      <th>SibSp</th>\n",
       "      <td>0</td>\n",
       "      <td>0.0000</td>\n",
       "    </tr>\n",
       "    <tr>\n",
       "      <th>Parch</th>\n",
       "      <td>0</td>\n",
       "      <td>0.0000</td>\n",
       "    </tr>\n",
       "    <tr>\n",
       "      <th>Ticket</th>\n",
       "      <td>0</td>\n",
       "      <td>0.0000</td>\n",
       "    </tr>\n",
       "    <tr>\n",
       "      <th>Embarked</th>\n",
       "      <td>0</td>\n",
       "      <td>0.0000</td>\n",
       "    </tr>\n",
       "  </tbody>\n",
       "</table>\n",
       "</div>"
      ],
      "text/plain": [
       "             amount  probability\n",
       "Cabin           327       0.7823\n",
       "Age              86       0.2057\n",
       "Fare              1       0.0024\n",
       "PassengerId       0       0.0000\n",
       "Pclass            0       0.0000\n",
       "Name              0       0.0000\n",
       "Sex               0       0.0000\n",
       "SibSp             0       0.0000\n",
       "Parch             0       0.0000\n",
       "Ticket            0       0.0000\n",
       "Embarked          0       0.0000"
      ]
     },
     "execution_count": 22,
     "metadata": {},
     "output_type": "execute_result"
    }
   ],
   "source": [
    "get_null_info(test)"
   ]
  },
  {
   "cell_type": "markdown",
   "id": "c3a70619",
   "metadata": {
    "papermill": {
     "duration": 0.048037,
     "end_time": "2022-01-26T15:43:59.215160",
     "exception": false,
     "start_time": "2022-01-26T15:43:59.167123",
     "status": "completed"
    },
    "tags": []
   },
   "source": [
    "The Titanic data has missing values, more specifically the Cabin of each individual, which heavily lacks non-null values. The \"Survived\" column is nonexistent in the testing data. The Age and Embarked columns also have missing values in both datasets. We can fill the Cabin and Embarked entries with \"Unknown\", fill the missing fare value with the mean, and fill the missing ages with the median, because it makes no sense for ages to have an average, which doesn't represent a whole number.\n",
    "\n",
    "*NOTE: The column transformer can also be used, but I have discovered that it gave my model a lower accuracy score.*"
   ]
  },
  {
   "cell_type": "code",
   "execution_count": 23,
   "id": "58bb59b8",
   "metadata": {
    "_kg_hide-input": true,
    "execution": {
     "iopub.execute_input": "2022-01-26T15:43:59.326212Z",
     "iopub.status.busy": "2022-01-26T15:43:59.325404Z",
     "iopub.status.idle": "2022-01-26T15:43:59.328503Z",
     "shell.execute_reply": "2022-01-26T15:43:59.329038Z",
     "shell.execute_reply.started": "2022-01-26T05:44:56.325162Z"
    },
    "papermill": {
     "duration": 0.065724,
     "end_time": "2022-01-26T15:43:59.329216",
     "exception": false,
     "start_time": "2022-01-26T15:43:59.263492",
     "status": "completed"
    },
    "tags": []
   },
   "outputs": [],
   "source": [
    "#Fill in missing values\n",
    "train.Cabin.fillna('Unknown', inplace=True)\n",
    "test.Cabin.fillna('Unknown', inplace=True)\n",
    "train.Age.fillna(df.Age.median(), inplace=True)\n",
    "test.Age.fillna(df.Age.median(), inplace=True)\n",
    "train.Embarked.fillna('Unknown', inplace=True)\n",
    "test.Embarked.fillna('Unknown', inplace=True)\n",
    "test.Fare.fillna(df.Fare.mean(), inplace=True)"
   ]
  },
  {
   "cell_type": "markdown",
   "id": "e142edfc",
   "metadata": {
    "papermill": {
     "duration": 0.051498,
     "end_time": "2022-01-26T15:43:59.429137",
     "exception": false,
     "start_time": "2022-01-26T15:43:59.377639",
     "status": "completed"
    },
    "tags": []
   },
   "source": [
    "## Building the Model\n",
    "\n",
    "Now that we have imputed the missing values, we can now build our model and get an accuracy score. I will use the Pipeline to encode the categorical data and then use the Random Forest Classifier, along with some hyperparameters to get the highest score."
   ]
  },
  {
   "cell_type": "code",
   "execution_count": 24,
   "id": "1ccf81a6",
   "metadata": {
    "execution": {
     "iopub.execute_input": "2022-01-26T15:43:59.554580Z",
     "iopub.status.busy": "2022-01-26T15:43:59.553694Z",
     "iopub.status.idle": "2022-01-26T15:48:49.027190Z",
     "shell.execute_reply": "2022-01-26T15:48:49.027768Z",
     "shell.execute_reply.started": "2022-01-26T05:44:56.337535Z"
    },
    "papermill": {
     "duration": 289.543994,
     "end_time": "2022-01-26T15:48:49.028016",
     "exception": false,
     "start_time": "2022-01-26T15:43:59.484022",
     "status": "completed"
    },
    "tags": []
   },
   "outputs": [
    {
     "name": "stdout",
     "output_type": "stream",
     "text": [
      "Highest score possible: 0.8283\n"
     ]
    }
   ],
   "source": [
    "#Using sklearn's Pipeline to build the model\n",
    "pipe = Pipeline([('ohe', OneHotEncoder(handle_unknown='ignore', sparse=False)), \n",
    "                 ('rf', RandomForestClassifier(random_state=0))])\n",
    "\n",
    "#Hyperparameters for our model\n",
    "param_grid = {'rf__n_estimators': [10,20,30,50,100,500,1000], \n",
    "              'rf__criterion': ['gini','entropy'], \n",
    "              'rf__bootstrap': [True,False]}\n",
    "\n",
    "#Data splitting\n",
    "X_train = train.drop('Survived', axis=1)\n",
    "y_train = train.Survived\n",
    "\n",
    "#Model building\n",
    "model = GridSearchCV(pipe, param_grid, scoring='accuracy')\n",
    "model.fit(X_train,y_train)\n",
    "print('Highest score possible: {:.4f}'.format(model.best_score_))"
   ]
  },
  {
   "cell_type": "markdown",
   "id": "01fec5b2",
   "metadata": {
    "papermill": {
     "duration": 0.046346,
     "end_time": "2022-01-26T15:48:49.121179",
     "exception": false,
     "start_time": "2022-01-26T15:48:49.074833",
     "status": "completed"
    },
    "tags": []
   },
   "source": [
    "We got an accuracy score of almost 83%, which is above the average (77%) of the scores in this competition. The hyperparameters definiely helped. The code below displays the parameters used to obtain the score:"
   ]
  },
  {
   "cell_type": "code",
   "execution_count": 25,
   "id": "6e880e42",
   "metadata": {
    "execution": {
     "iopub.execute_input": "2022-01-26T15:48:49.219822Z",
     "iopub.status.busy": "2022-01-26T15:48:49.219157Z",
     "iopub.status.idle": "2022-01-26T15:48:49.223423Z",
     "shell.execute_reply": "2022-01-26T15:48:49.224018Z",
     "shell.execute_reply.started": "2022-01-26T05:49:00.855252Z"
    },
    "papermill": {
     "duration": 0.056059,
     "end_time": "2022-01-26T15:48:49.224196",
     "exception": false,
     "start_time": "2022-01-26T15:48:49.168137",
     "status": "completed"
    },
    "tags": []
   },
   "outputs": [
    {
     "name": "stdout",
     "output_type": "stream",
     "text": [
      "Best parameters:\n",
      "rf__bootstrap: False\n",
      "rf__criterion: gini\n",
      "rf__n_estimators: 20\n"
     ]
    }
   ],
   "source": [
    "print('Best parameters:')\n",
    "for k, v in model.best_params_.items():\n",
    "    print('%s: %s' % (k, v))"
   ]
  },
  {
   "cell_type": "markdown",
   "id": "a8b9b6f4",
   "metadata": {
    "papermill": {
     "duration": 0.045747,
     "end_time": "2022-01-26T15:48:49.316809",
     "exception": false,
     "start_time": "2022-01-26T15:48:49.271062",
     "status": "completed"
    },
    "tags": []
   },
   "source": [
    "And here are all of the possible scores:"
   ]
  },
  {
   "cell_type": "code",
   "execution_count": 26,
   "id": "ef94212c",
   "metadata": {
    "execution": {
     "iopub.execute_input": "2022-01-26T15:48:49.413626Z",
     "iopub.status.busy": "2022-01-26T15:48:49.412990Z",
     "iopub.status.idle": "2022-01-26T15:48:49.430025Z",
     "shell.execute_reply": "2022-01-26T15:48:49.430521Z",
     "shell.execute_reply.started": "2022-01-26T05:49:00.861843Z"
    },
    "papermill": {
     "duration": 0.067572,
     "end_time": "2022-01-26T15:48:49.430689",
     "exception": false,
     "start_time": "2022-01-26T15:48:49.363117",
     "status": "completed"
    },
    "tags": []
   },
   "outputs": [
    {
     "data": {
      "text/html": [
       "<div>\n",
       "<style scoped>\n",
       "    .dataframe tbody tr th:only-of-type {\n",
       "        vertical-align: middle;\n",
       "    }\n",
       "\n",
       "    .dataframe tbody tr th {\n",
       "        vertical-align: top;\n",
       "    }\n",
       "\n",
       "    .dataframe thead th {\n",
       "        text-align: right;\n",
       "    }\n",
       "</style>\n",
       "<table border=\"1\" class=\"dataframe\">\n",
       "  <thead>\n",
       "    <tr style=\"text-align: right;\">\n",
       "      <th></th>\n",
       "      <th>rf__bootstrap</th>\n",
       "      <th>rf__criterion</th>\n",
       "      <th>rf__n_estimators</th>\n",
       "      <th>score</th>\n",
       "    </tr>\n",
       "  </thead>\n",
       "  <tbody>\n",
       "    <tr>\n",
       "      <th>15</th>\n",
       "      <td>False</td>\n",
       "      <td>gini</td>\n",
       "      <td>20</td>\n",
       "      <td>0.8283</td>\n",
       "    </tr>\n",
       "    <tr>\n",
       "      <th>24</th>\n",
       "      <td>False</td>\n",
       "      <td>entropy</td>\n",
       "      <td>50</td>\n",
       "      <td>0.8260</td>\n",
       "    </tr>\n",
       "    <tr>\n",
       "      <th>27</th>\n",
       "      <td>False</td>\n",
       "      <td>entropy</td>\n",
       "      <td>1000</td>\n",
       "      <td>0.8249</td>\n",
       "    </tr>\n",
       "    <tr>\n",
       "      <th>20</th>\n",
       "      <td>False</td>\n",
       "      <td>gini</td>\n",
       "      <td>1000</td>\n",
       "      <td>0.8238</td>\n",
       "    </tr>\n",
       "    <tr>\n",
       "      <th>26</th>\n",
       "      <td>False</td>\n",
       "      <td>entropy</td>\n",
       "      <td>500</td>\n",
       "      <td>0.8238</td>\n",
       "    </tr>\n",
       "    <tr>\n",
       "      <th>18</th>\n",
       "      <td>False</td>\n",
       "      <td>gini</td>\n",
       "      <td>100</td>\n",
       "      <td>0.8238</td>\n",
       "    </tr>\n",
       "    <tr>\n",
       "      <th>17</th>\n",
       "      <td>False</td>\n",
       "      <td>gini</td>\n",
       "      <td>50</td>\n",
       "      <td>0.8226</td>\n",
       "    </tr>\n",
       "    <tr>\n",
       "      <th>11</th>\n",
       "      <td>True</td>\n",
       "      <td>entropy</td>\n",
       "      <td>100</td>\n",
       "      <td>0.8215</td>\n",
       "    </tr>\n",
       "    <tr>\n",
       "      <th>19</th>\n",
       "      <td>False</td>\n",
       "      <td>gini</td>\n",
       "      <td>500</td>\n",
       "      <td>0.8204</td>\n",
       "    </tr>\n",
       "    <tr>\n",
       "      <th>14</th>\n",
       "      <td>False</td>\n",
       "      <td>gini</td>\n",
       "      <td>10</td>\n",
       "      <td>0.8204</td>\n",
       "    </tr>\n",
       "    <tr>\n",
       "      <th>25</th>\n",
       "      <td>False</td>\n",
       "      <td>entropy</td>\n",
       "      <td>100</td>\n",
       "      <td>0.8193</td>\n",
       "    </tr>\n",
       "    <tr>\n",
       "      <th>16</th>\n",
       "      <td>False</td>\n",
       "      <td>gini</td>\n",
       "      <td>30</td>\n",
       "      <td>0.8193</td>\n",
       "    </tr>\n",
       "    <tr>\n",
       "      <th>23</th>\n",
       "      <td>False</td>\n",
       "      <td>entropy</td>\n",
       "      <td>30</td>\n",
       "      <td>0.8182</td>\n",
       "    </tr>\n",
       "    <tr>\n",
       "      <th>5</th>\n",
       "      <td>True</td>\n",
       "      <td>gini</td>\n",
       "      <td>500</td>\n",
       "      <td>0.8170</td>\n",
       "    </tr>\n",
       "    <tr>\n",
       "      <th>6</th>\n",
       "      <td>True</td>\n",
       "      <td>gini</td>\n",
       "      <td>1000</td>\n",
       "      <td>0.8170</td>\n",
       "    </tr>\n",
       "    <tr>\n",
       "      <th>9</th>\n",
       "      <td>True</td>\n",
       "      <td>entropy</td>\n",
       "      <td>30</td>\n",
       "      <td>0.8170</td>\n",
       "    </tr>\n",
       "    <tr>\n",
       "      <th>4</th>\n",
       "      <td>True</td>\n",
       "      <td>gini</td>\n",
       "      <td>100</td>\n",
       "      <td>0.8159</td>\n",
       "    </tr>\n",
       "    <tr>\n",
       "      <th>22</th>\n",
       "      <td>False</td>\n",
       "      <td>entropy</td>\n",
       "      <td>20</td>\n",
       "      <td>0.8159</td>\n",
       "    </tr>\n",
       "    <tr>\n",
       "      <th>12</th>\n",
       "      <td>True</td>\n",
       "      <td>entropy</td>\n",
       "      <td>500</td>\n",
       "      <td>0.8159</td>\n",
       "    </tr>\n",
       "    <tr>\n",
       "      <th>21</th>\n",
       "      <td>False</td>\n",
       "      <td>entropy</td>\n",
       "      <td>10</td>\n",
       "      <td>0.8148</td>\n",
       "    </tr>\n",
       "    <tr>\n",
       "      <th>10</th>\n",
       "      <td>True</td>\n",
       "      <td>entropy</td>\n",
       "      <td>50</td>\n",
       "      <td>0.8148</td>\n",
       "    </tr>\n",
       "    <tr>\n",
       "      <th>8</th>\n",
       "      <td>True</td>\n",
       "      <td>entropy</td>\n",
       "      <td>20</td>\n",
       "      <td>0.8148</td>\n",
       "    </tr>\n",
       "    <tr>\n",
       "      <th>13</th>\n",
       "      <td>True</td>\n",
       "      <td>entropy</td>\n",
       "      <td>1000</td>\n",
       "      <td>0.8148</td>\n",
       "    </tr>\n",
       "    <tr>\n",
       "      <th>0</th>\n",
       "      <td>True</td>\n",
       "      <td>gini</td>\n",
       "      <td>10</td>\n",
       "      <td>0.8114</td>\n",
       "    </tr>\n",
       "    <tr>\n",
       "      <th>7</th>\n",
       "      <td>True</td>\n",
       "      <td>entropy</td>\n",
       "      <td>10</td>\n",
       "      <td>0.8103</td>\n",
       "    </tr>\n",
       "    <tr>\n",
       "      <th>3</th>\n",
       "      <td>True</td>\n",
       "      <td>gini</td>\n",
       "      <td>50</td>\n",
       "      <td>0.8081</td>\n",
       "    </tr>\n",
       "    <tr>\n",
       "      <th>1</th>\n",
       "      <td>True</td>\n",
       "      <td>gini</td>\n",
       "      <td>20</td>\n",
       "      <td>0.8081</td>\n",
       "    </tr>\n",
       "    <tr>\n",
       "      <th>2</th>\n",
       "      <td>True</td>\n",
       "      <td>gini</td>\n",
       "      <td>30</td>\n",
       "      <td>0.8059</td>\n",
       "    </tr>\n",
       "  </tbody>\n",
       "</table>\n",
       "</div>"
      ],
      "text/plain": [
       "    rf__bootstrap rf__criterion  rf__n_estimators  score\n",
       "15          False          gini                20 0.8283\n",
       "24          False       entropy                50 0.8260\n",
       "27          False       entropy              1000 0.8249\n",
       "20          False          gini              1000 0.8238\n",
       "26          False       entropy               500 0.8238\n",
       "18          False          gini               100 0.8238\n",
       "17          False          gini                50 0.8226\n",
       "11           True       entropy               100 0.8215\n",
       "19          False          gini               500 0.8204\n",
       "14          False          gini                10 0.8204\n",
       "25          False       entropy               100 0.8193\n",
       "16          False          gini                30 0.8193\n",
       "23          False       entropy                30 0.8182\n",
       "5            True          gini               500 0.8170\n",
       "6            True          gini              1000 0.8170\n",
       "9            True       entropy                30 0.8170\n",
       "4            True          gini               100 0.8159\n",
       "22          False       entropy                20 0.8159\n",
       "12           True       entropy               500 0.8159\n",
       "21          False       entropy                10 0.8148\n",
       "10           True       entropy                50 0.8148\n",
       "8            True       entropy                20 0.8148\n",
       "13           True       entropy              1000 0.8148\n",
       "0            True          gini                10 0.8114\n",
       "7            True       entropy                10 0.8103\n",
       "3            True          gini                50 0.8081\n",
       "1            True          gini                20 0.8081\n",
       "2            True          gini                30 0.8059"
      ]
     },
     "execution_count": 26,
     "metadata": {},
     "output_type": "execute_result"
    }
   ],
   "source": [
    "#This will create a table of scores with each hyperparameter combination\n",
    "params = pd.DataFrame(model.cv_results_['params'])\n",
    "params['score'] = model.cv_results_['mean_test_score']\n",
    "params.sort_values('score', ascending=False)"
   ]
  },
  {
   "cell_type": "markdown",
   "id": "a02004ec",
   "metadata": {
    "papermill": {
     "duration": 0.046905,
     "end_time": "2022-01-26T15:48:49.524762",
     "exception": false,
     "start_time": "2022-01-26T15:48:49.477857",
     "status": "completed"
    },
    "tags": []
   },
   "source": [
    "Now that we are done, we can create our submission:"
   ]
  },
  {
   "cell_type": "code",
   "execution_count": 27,
   "id": "98ef8b86",
   "metadata": {
    "execution": {
     "iopub.execute_input": "2022-01-26T15:48:49.628615Z",
     "iopub.status.busy": "2022-01-26T15:48:49.624004Z",
     "iopub.status.idle": "2022-01-26T15:48:49.661606Z",
     "shell.execute_reply": "2022-01-26T15:48:49.660970Z",
     "shell.execute_reply.started": "2022-01-26T05:49:00.883237Z"
    },
    "papermill": {
     "duration": 0.089821,
     "end_time": "2022-01-26T15:48:49.661753",
     "exception": false,
     "start_time": "2022-01-26T15:48:49.571932",
     "status": "completed"
    },
    "tags": []
   },
   "outputs": [
    {
     "data": {
      "text/html": [
       "<div>\n",
       "<style scoped>\n",
       "    .dataframe tbody tr th:only-of-type {\n",
       "        vertical-align: middle;\n",
       "    }\n",
       "\n",
       "    .dataframe tbody tr th {\n",
       "        vertical-align: top;\n",
       "    }\n",
       "\n",
       "    .dataframe thead th {\n",
       "        text-align: right;\n",
       "    }\n",
       "</style>\n",
       "<table border=\"1\" class=\"dataframe\">\n",
       "  <thead>\n",
       "    <tr style=\"text-align: right;\">\n",
       "      <th></th>\n",
       "      <th>PassengerId</th>\n",
       "      <th>Survived</th>\n",
       "    </tr>\n",
       "  </thead>\n",
       "  <tbody>\n",
       "    <tr>\n",
       "      <th>0</th>\n",
       "      <td>892</td>\n",
       "      <td>0</td>\n",
       "    </tr>\n",
       "    <tr>\n",
       "      <th>1</th>\n",
       "      <td>893</td>\n",
       "      <td>1</td>\n",
       "    </tr>\n",
       "    <tr>\n",
       "      <th>2</th>\n",
       "      <td>894</td>\n",
       "      <td>0</td>\n",
       "    </tr>\n",
       "    <tr>\n",
       "      <th>3</th>\n",
       "      <td>895</td>\n",
       "      <td>0</td>\n",
       "    </tr>\n",
       "    <tr>\n",
       "      <th>4</th>\n",
       "      <td>896</td>\n",
       "      <td>1</td>\n",
       "    </tr>\n",
       "    <tr>\n",
       "      <th>...</th>\n",
       "      <td>...</td>\n",
       "      <td>...</td>\n",
       "    </tr>\n",
       "    <tr>\n",
       "      <th>413</th>\n",
       "      <td>1305</td>\n",
       "      <td>0</td>\n",
       "    </tr>\n",
       "    <tr>\n",
       "      <th>414</th>\n",
       "      <td>1306</td>\n",
       "      <td>1</td>\n",
       "    </tr>\n",
       "    <tr>\n",
       "      <th>415</th>\n",
       "      <td>1307</td>\n",
       "      <td>0</td>\n",
       "    </tr>\n",
       "    <tr>\n",
       "      <th>416</th>\n",
       "      <td>1308</td>\n",
       "      <td>0</td>\n",
       "    </tr>\n",
       "    <tr>\n",
       "      <th>417</th>\n",
       "      <td>1309</td>\n",
       "      <td>0</td>\n",
       "    </tr>\n",
       "  </tbody>\n",
       "</table>\n",
       "<p>418 rows × 2 columns</p>\n",
       "</div>"
      ],
      "text/plain": [
       "     PassengerId  Survived\n",
       "0            892         0\n",
       "1            893         1\n",
       "2            894         0\n",
       "3            895         0\n",
       "4            896         1\n",
       "..           ...       ...\n",
       "413         1305         0\n",
       "414         1306         1\n",
       "415         1307         0\n",
       "416         1308         0\n",
       "417         1309         0\n",
       "\n",
       "[418 rows x 2 columns]"
      ]
     },
     "execution_count": 27,
     "metadata": {},
     "output_type": "execute_result"
    }
   ],
   "source": [
    "#Create CVS file for submission\n",
    "output = pd.DataFrame({'PassengerId': test.index + 892, 'Survived': model.predict(test)})\n",
    "output.to_csv('gender_submission.csv', index=False)\n",
    "output"
   ]
  },
  {
   "cell_type": "markdown",
   "id": "6cdb8d31",
   "metadata": {
    "papermill": {
     "duration": 0.047432,
     "end_time": "2022-01-26T15:48:49.756759",
     "exception": false,
     "start_time": "2022-01-26T15:48:49.709327",
     "status": "completed"
    },
    "tags": []
   },
   "source": [
    "So it turns out that using Random Forest Classifier, along with some hyperparameters, slightly boosted the score which makes our model a little bit better. Comment for any feedback."
   ]
  }
 ],
 "metadata": {
  "kernelspec": {
   "display_name": "Python 3",
   "language": "python",
   "name": "python3"
  },
  "language_info": {
   "codemirror_mode": {
    "name": "ipython",
    "version": 3
   },
   "file_extension": ".py",
   "mimetype": "text/x-python",
   "name": "python",
   "nbconvert_exporter": "python",
   "pygments_lexer": "ipython3",
   "version": "3.7.12"
  },
  "papermill": {
   "default_parameters": {},
   "duration": 310.782475,
   "end_time": "2022-01-26T15:48:50.616681",
   "environment_variables": {},
   "exception": null,
   "input_path": "__notebook__.ipynb",
   "output_path": "__notebook__.ipynb",
   "parameters": {},
   "start_time": "2022-01-26T15:43:39.834206",
   "version": "2.3.3"
  }
 },
 "nbformat": 4,
 "nbformat_minor": 5
}
